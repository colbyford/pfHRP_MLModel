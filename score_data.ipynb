{
  "cells": [
    {
      "cell_type": "code",
      "source": [
        "import pandas as pd\n",
        "import numpy as np\n",
        "import sklearn\n",
        "import pickle\n",
        "import json\n",
        "import azureml.train.automl\n",
        "from sklearn.externals import joblib\n",
        "from azureml.core.model import Model\n",
        "\n",
        "# from inference_schema.schema_decorators import input_schema, output_schema\n",
        "# from inference_schema.parameter_types.numpy_parameter_type import NumpyParameterType\n",
        "# from inference_schema.parameter_types.pandas_parameter_type import PandasParameterType"
      ],
      "outputs": [],
      "execution_count": 15,
      "metadata": {
        "gather": {
          "logged": 1629300630818
        }
      }
    },
    {
      "cell_type": "code",
      "source": [
        "data = pd.read_csv(\"pfHRP2_withMeta.csv\").drop(columns=['PfHRP2'])"
      ],
      "outputs": [],
      "execution_count": 16,
      "metadata": {
        "collapsed": true,
        "jupyter": {
          "source_hidden": false,
          "outputs_hidden": false
        },
        "nteract": {
          "transient": {
            "deleting": false
          }
        },
        "gather": {
          "logged": 1629300634764
        }
      }
    },
    {
      "cell_type": "code",
      "source": [
        "# model_path = \"models/types2and7/Best_ExtremeRandomTrees/model_5f85f5bb55.pkl\"\n",
        "# model_path = \"models/types2and7/Best_VotingEnsemble/model_5f85f5bb540.pkl\"\n",
        "\n",
        "# model_path = \"models/types1-24/Best_ExtremeRandomTrees/model_217f4a22512.pkl\"\n",
        "# model_path = \"models/types1-24/Best_VotingEnsemble/model_217f4a22540.pkl\"\n",
        "\n",
        "# model_path = \"models/type3and5and10/Best_ExtremeRandomTrees/model_e91c8e84e12.pkl\"\n",
        "model_path = \"models/type3and5and10/Best_VotingEnsemble/model_e91c8e84e36.pkl\"\n",
        "\n",
        "model = joblib.load(model_path)"
      ],
      "outputs": [],
      "execution_count": 39,
      "metadata": {
        "collapsed": true,
        "jupyter": {
          "source_hidden": false,
          "outputs_hidden": false
        },
        "nteract": {
          "transient": {
            "deleting": false
          }
        },
        "gather": {
          "logged": 1629302005730
        }
      }
    },
    {
      "cell_type": "code",
      "source": [
        "result = model.predict(data)\n",
        "result"
      ],
      "outputs": [
        {
          "output_type": "execute_result",
          "execution_count": 40,
          "data": {
            "text/plain": "array(['1', '2', '1', '1', '1', '1', '1', '1', '1', '1', '1', '2', '2',\n       '2', '1', '1', '1', '1', '1', '1', '1', '1', '1', '1', '1', '1',\n       '1', '1', '2', '2', '2', '1', '2', '2', '2', '1', '2', '2', '2',\n       '2', '2', '1', '1', '1', '2', '2', '1', '2', '1', '1', '2', '2',\n       '2', '2', '2', '2', '2', '2', '2', '2', '2', '1', '2', '2', '1',\n       '1', '2'], dtype=object)"
          },
          "metadata": {}
        }
      ],
      "execution_count": 40,
      "metadata": {
        "collapsed": true,
        "jupyter": {
          "source_hidden": false,
          "outputs_hidden": false
        },
        "nteract": {
          "transient": {
            "deleting": false
          }
        },
        "gather": {
          "logged": 1629302006224
        }
      }
    }
  ],
  "metadata": {
    "kernelspec": {
      "name": "python3-azureml",
      "language": "python",
      "display_name": "Python 3.6 - AzureML"
    },
    "language_info": {
      "name": "python",
      "version": "3.6.9",
      "mimetype": "text/x-python",
      "codemirror_mode": {
        "name": "ipython",
        "version": 3
      },
      "pygments_lexer": "ipython3",
      "nbconvert_exporter": "python",
      "file_extension": ".py"
    },
    "kernel_info": {
      "name": "python3-azureml"
    },
    "nteract": {
      "version": "nteract-front-end@1.0.0"
    }
  },
  "nbformat": 4,
  "nbformat_minor": 2
}